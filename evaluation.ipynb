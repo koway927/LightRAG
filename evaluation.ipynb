{
 "cells": [
  {
   "cell_type": "code",
   "execution_count": 2,
   "id": "2a72cf40",
   "metadata": {},
   "outputs": [],
   "source": [
    "import evaluate\n",
    "from typing import List, Dict\n",
    "from LightRAG import LightRAG\n"
   ]
  },
  {
   "cell_type": "code",
   "execution_count": null,
   "id": "8857518a",
   "metadata": {},
   "outputs": [],
   "source": [
    "# question 1: \"What vector database was used for vector data management in the experiments?\"\n",
    "# question 2: \"What is the default chunk size used across all datasets?\"\n",
    "# question 3:\"Which LLM is used by default for operations in LightRAG?\"\n",
    "# question 4: \"What does the -High variant of the model remove?\"\n",
    "# question 5:Which dataset was the largest one used in the evaluation?\""
   ]
  },
  {
   "cell_type": "code",
   "execution_count": 4,
   "id": "5ad9266c",
   "metadata": {},
   "outputs": [
    {
     "name": "stdout",
     "output_type": "stream",
     "text": [
      "Exact Match: 40.00%\n",
      "F1 Score:    71.43\n"
     ]
    }
   ],
   "source": [
    "squad_metric = evaluate.load(\"squad\")\n",
    "\n",
    "references= [\n",
    "    {\"id\": \"q1\", \"answers\": {\"text\": [\"nano vector database\"], \"answer_start\": [0]}},\n",
    "    {\"id\": \"q2\", \"answers\": {\"text\": [\"1200\"], \"answer_start\": [0]}},\n",
    "    {\"id\": \"q3\", \"answers\": {\"text\": [\"GPT-4o-mini\"], \"answer_start\": [0]}},\n",
    "    {\"id\": \"q4\", \"answers\": {\"text\": [\"high-level retrieval\"], \"answer_start\": [0]}},\n",
    "    {\"id\": \"q5\", \"answers\": {\"text\": [\"The Legal dataset\", \"Legal\"], \"answer_start\": [0, 0]}}\n",
    "]\n",
    "prediction = [\n",
    "    {\"id\": \"q1\", \"prediction_text\": \"The paper mentions using the nano vector database\"},\n",
    "    {\"id\": \"q2\", \"prediction_text\": \"1200\"},\n",
    "    {\"id\": \"q3\", \"prediction_text\": \"GPT-4o-mini is used for operations.\"},\n",
    "    {\"id\": \"q4\", \"prediction_text\": \"The -High variant removes high-level retrieval\"},\n",
    "    {\"id\": \"q5\", \"prediction_text\": \"The Legal dataset\"}\n",
    "]\n",
    "\n",
    "results = squad_metric.compute(predictions=prediction, references=references)\n",
    "\n",
    "print(f\"Exact Match: {results['exact_match']:.2f}%\")\n",
    "print(f\"F1 Score:    {results['f1']:.2f}\")\n"
   ]
  },
  {
   "cell_type": "code",
   "execution_count": null,
   "id": "cfde31b4",
   "metadata": {},
   "outputs": [],
   "source": []
  }
 ],
 "metadata": {
  "kernelspec": {
   "display_name": "base",
   "language": "python",
   "name": "python3"
  },
  "language_info": {
   "codemirror_mode": {
    "name": "ipython",
    "version": 3
   },
   "file_extension": ".py",
   "mimetype": "text/x-python",
   "name": "python",
   "nbconvert_exporter": "python",
   "pygments_lexer": "ipython3",
   "version": "3.11.5"
  }
 },
 "nbformat": 4,
 "nbformat_minor": 5
}
